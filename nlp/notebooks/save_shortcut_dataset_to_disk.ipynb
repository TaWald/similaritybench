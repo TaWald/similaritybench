{
 "cells": [
  {
   "cell_type": "code",
   "execution_count": null,
   "metadata": {},
   "outputs": [],
   "source": [
    "from repsim.nlp import get_dataset, ShortcutAdder\n",
    "from repsim.benchmark.paths import NLP_DATA_PATH\n"
   ]
  },
  {
   "cell_type": "code",
   "execution_count": null,
   "metadata": {},
   "outputs": [],
   "source": [
    "dataset = get_dataset(\"sst2\")"
   ]
  },
  {
   "cell_type": "code",
   "execution_count": null,
   "metadata": {},
   "outputs": [],
   "source": [
    "shortcutter = ShortcutAdder(\n",
    "    num_labels=2,\n",
    "    p=0,  # the shortcut will always leak the opposite class. But the models are not trained on this kind of data, so it is fine\n",
    "    seed=0,\n",
    "    feature_column=\"sentence\",\n",
    "    label_column=\"label\",\n",
    ")\n",
    "dataset = dataset.map(shortcutter)\n",
    "feature_column = shortcutter.new_feature_column"
   ]
  },
  {
   "cell_type": "code",
   "execution_count": null,
   "metadata": {},
   "outputs": [],
   "source": [
    "dataset.save_to_disk(str(NLP_DATA_PATH / \"shortcut\" / \"sst2_sc_rate0\"))"
   ]
  },
  {
   "cell_type": "code",
   "execution_count": null,
   "metadata": {},
   "outputs": [],
   "source": []
  }
 ],
 "metadata": {
  "kernelspec": {
   "display_name": ".venv",
   "language": "python",
   "name": "python3"
  },
  "language_info": {
   "codemirror_mode": {
    "name": "ipython",
    "version": 3
   },
   "file_extension": ".py",
   "mimetype": "text/x-python",
   "name": "python",
   "nbconvert_exporter": "python",
   "pygments_lexer": "ipython3",
   "version": "3.10.4"
  }
 },
 "nbformat": 4,
 "nbformat_minor": 2
}
