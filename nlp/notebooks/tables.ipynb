{
 "cells": [
  {
   "cell_type": "code",
   "execution_count": null,
   "metadata": {},
   "outputs": [],
   "source": [
    "import pandas as pd\n",
    "from repsim.benchmark.paths import EXPERIMENT_RESULTS_PATH"
   ]
  },
  {
   "cell_type": "markdown",
   "metadata": {},
   "source": [
    "## Group Separation"
   ]
  },
  {
   "cell_type": "code",
   "execution_count": null,
   "metadata": {},
   "outputs": [],
   "source": [
    "# path = \"/root/similaritybench/experiments/results/nlp_aug_mnli_full.csv\"\n",
    "# path = \"/root/similaritybench/experiments/results/nlp_sc_mnli_full.csv\"\n",
    "\n",
    "\n",
    "cleaned_dfs = []\n",
    "for path, setting, dataset in [\n",
    "        (\"/root/similaritybench/experiments/results/nlp_aug_sst2.csv\", \"aug\", \"sst2\"),\n",
    "        (\"/root/similaritybench/experiments/results/nlp_mem_sst2.csv\", \"mem\", \"sst2\"),\n",
    "        (\"/root/similaritybench/experiments/results/nlp_shortcut_sst2.csv\", \"sc\", \"sst2\"),\n",
    "        (\"/root/similaritybench/experiments/results/nlp_shortcut_mnli.csv\", \"sc\", \"mnli\"),\n",
    "        (\"/root/similaritybench/experiments/results/nlp_aug_mnli.csv\", \"aug\", \"mnli\"),\n",
    "        (\"/root/similaritybench/experiments/results/nlp_mem_mnli.csv\", \"mem\", \"mnli\"),\n",
    "    ]:\n",
    "    print(setting, dataset)\n",
    "    df = pd.read_csv(path)\n",
    "    data = df.loc[2:].copy().reset_index(drop=True)\n",
    "    print(data.columns)\n",
    "    proper_name = {\"quality_measure\": \"Similarity Measure\", \"AUPRC\": \"AUPRC\", \"violation_rate\": \"Violation Rate\"}\n",
    "    data.columns = [proper_name[col] for col in data.columns]\n",
    "    data[\"Architecture\"] = \"BERT-Base\"\n",
    "    data.loc[:, \"Violation Rate\"] = data.loc[:, \"Violation Rate\"].astype(float)\n",
    "    data.loc[:, \"AUPRC\"] = data.loc[:, \"AUPRC\"].astype(float)\n",
    "    data = data.melt(\n",
    "        id_vars=[\"Similarity Measure\", \"Architecture\"],\n",
    "        value_vars=[\"Violation Rate\", \"AUPRC\"],\n",
    "        var_name=\"Quality Metric\",\n",
    "        value_name=\"Score\",\n",
    "    )\n",
    "    data[\"Setting\"] = setting\n",
    "    data[\"Dataset\"] = dataset\n",
    "\n",
    "    cleaned_dfs.append(data)\n",
    "\n",
    "data = pd.concat(cleaned_dfs).reset_index(drop=True)\n",
    "data.head()"
   ]
  },
  {
   "cell_type": "code",
   "execution_count": null,
   "metadata": {},
   "outputs": [],
   "source": [
    "for setting in data.Setting.unique():\n",
    "    pivot = pd.pivot(data[data.Setting == setting], index=\"Similarity Measure\", columns=[\"Quality Metric\", \"Dataset\"], values=\"Score\")\n",
    "    print(pivot.to_latex())"
   ]
  },
  {
   "cell_type": "code",
   "execution_count": null,
   "metadata": {},
   "outputs": [],
   "source": [
    "pivot = data.pivot_table(index=\"Similarity Measure\", columns=[\"Quality Metric\", \"Setting\", \"Dataset\"], values=\"Score\")\n",
    "pivot\n"
   ]
  },
  {
   "cell_type": "code",
   "execution_count": null,
   "metadata": {},
   "outputs": [],
   "source": [
    "styled = pd.io.formats.style.Styler(\n",
    "    pivot,\n",
    "    precision=3,\n",
    "    caption=\"Ability to separate groups of BERT representations in different settings.\",\n",
    ")\n",
    "styled"
   ]
  },
  {
   "cell_type": "code",
   "execution_count": null,
   "metadata": {},
   "outputs": [],
   "source": [
    "latex_str = styled.to_latex(hrules=True, position=\"t\", label=\"tab:nlp_groupsep\")\n",
    "latex_str = latex_str.split(\"\\n\")\n",
    "latex_str = [r\"\\rowcolor{Gray}\" + line  if i>=12 and (i-12)%2==0 else line for i, line in enumerate(latex_str[:-4])] + latex_str[-4:]\n",
    "latex_str = \"\\n\".join(latex_str)\n",
    "print(latex_str)"
   ]
  },
  {
   "cell_type": "code",
   "execution_count": null,
   "metadata": {},
   "outputs": [],
   "source": [
    "groupsep_data = data.copy()"
   ]
  },
  {
   "cell_type": "markdown",
   "metadata": {},
   "source": [
    "## Output Correlation"
   ]
  },
  {
   "cell_type": "code",
   "execution_count": null,
   "metadata": {},
   "outputs": [],
   "source": [
    "cleaned_dfs = []\n",
    "for path, setting, dataset in [\n",
    "    (\"/root/similaritybench/experiments/results/correlation_nlp_aug_mnli_full.csv\",\"aug\",\"mnli\"),\n",
    "    (\"/root/similaritybench/experiments/results/correlation_nlp_aug_sst2_full.csv\",\"aug\",\"sst2\"),\n",
    "    (\"/root/similaritybench/experiments/results/correlation_nlp_mem_mnli_full.csv\",\"mem\",\"mnli\"),\n",
    "    (\"/root/similaritybench/experiments/results/correlation_nlp_mem_sst2_full.csv\",\"mem\",\"sst2\"),\n",
    "    (\"/root/similaritybench/experiments/results/correlation_nlp_sc_mnli_full.csv\",\"sc\",\"mnli\"),\n",
    "    (\"/root/similaritybench/experiments/results/correlation_nlp_sc_sst2_full.csv\",\"sc\",\"sst2\"),\n",
    "    ]:\n",
    "    df = pd.read_csv(path, index_col=0)\n",
    "    df[\"Setting\"] = setting\n",
    "    df[\"Dataset\"] = dataset\n",
    "    cleaned_dfs.append(df)\n",
    "data = pd.concat(cleaned_dfs).reset_index(drop=True)\n",
    "data = data.rename(columns={\"functional_similarity_measure\": \"Functional Similarity Measure\", \"similarity_measure\": \"Representational Similarity Measure\", \"quality_measure\": \"Quality Measure\"})"
   ]
  },
  {
   "cell_type": "code",
   "execution_count": null,
   "metadata": {},
   "outputs": [],
   "source": [
    "pivot = data[data[\"Quality Measure\"]==\"spearmanr\"].pivot_table(index=\"Representational Similarity Measure\",columns=[\"Functional Similarity Measure\", \"Quality Measure\", \"Setting\", \"Dataset\"],values=\"corr\")\n",
    "# pivot = pivot.apply(abs)\n",
    "pivot = pivot.sort_values(by=\"Representational Similarity Measure\")\n",
    "pivot"
   ]
  },
  {
   "cell_type": "code",
   "execution_count": null,
   "metadata": {},
   "outputs": [],
   "source": [
    "styled = pd.io.formats.style.Styler(\n",
    "    pivot,\n",
    "    precision=3,\n",
    "    caption=\"Absolute correlation between representational and functional similarity for BERT models.\",\n",
    ")\n",
    "latex_str = styled.to_latex(hrules=True, position=\"t\", label=\"tab:nlp_outputcorr\", )\n",
    "latex_str = latex_str.split(\"\\n\")\n",
    "latex_str = [r\"\\rowcolor{Gray}\" + line  if i>=12 and (i-12)%2==0 else line for i, line in enumerate(latex_str[:-4])] + latex_str[-4:]\n",
    "latex_str = \"\\n\".join(latex_str)\n",
    "print(latex_str)\n"
   ]
  },
  {
   "cell_type": "code",
   "execution_count": null,
   "metadata": {},
   "outputs": [],
   "source": [
    "qmeasures = [\"kendalltau\"]\n",
    "# qmeasures = [\"pearsonr\"]\n",
    "# qmeasures = [\"kendalltau\", \"spearmanr\"]\n",
    "pivot = data[data[\"Quality Measure\"].isin(qmeasures)].pivot_table(index=\"Representational Similarity Measure\",columns=[\"Quality Measure\", \"Setting\", \"Dataset\", \"Functional Similarity Measure\", \"architecture\", ],values=\"corr\")\n",
    "pivot = pivot.apply(abs)\n",
    "pivot = pivot.sort_values(by=\"Representational Similarity Measure\")\n",
    "pivot.corr(\"kendall\")\n",
    "# pivot"
   ]
  },
  {
   "cell_type": "code",
   "execution_count": null,
   "metadata": {},
   "outputs": [],
   "source": [
    "data[\"Quality Measure\"].unique()"
   ]
  },
  {
   "cell_type": "code",
   "execution_count": null,
   "metadata": {},
   "outputs": [],
   "source": [
    "corr_data = data.copy()\n"
   ]
  },
  {
   "cell_type": "markdown",
   "metadata": {},
   "source": [
    "## Combined Table (with preliminary values)"
   ]
  },
  {
   "cell_type": "code",
   "execution_count": null,
   "metadata": {},
   "outputs": [],
   "source": [
    "corr_setting = \"aug\"\n",
    "corr_qmeasure = \"spearmanr\"\n",
    "corr_funcsim = \"JSD\"\n",
    "corr_dataset = \"mnli\"\n",
    "\n",
    "merge_corr = corr_data.loc[\n",
    "    (corr_data[\"Functional Similarity Measure\"] == corr_funcsim) &\n",
    "    (corr_data[\"Quality Measure\"]==corr_qmeasure) &\n",
    "    (corr_data[\"Setting\"] == corr_setting) &\n",
    "    (corr_data[\"Dataset\"] == corr_dataset)\n",
    "]\n",
    "merge_corr[\"Score\"] = merge_corr.loc[:, \"corr\"]\n",
    "merge_corr.loc[:, \"Similarity Measure\"] = merge_corr.loc[:, \"Representational Similarity Measure\"]\n",
    "merge_corr.loc[:, \"Setting\"] = corr_funcsim+corr_dataset+corr_setting\n",
    "full_corr_setting = corr_funcsim+corr_dataset+corr_setting\n",
    "merge_corr.loc[:, \"Architecture\"] = \"BERT-Base\"\n",
    "merge_corr.loc[:, \"Quality Metric\"] = corr_qmeasure\n",
    "\n",
    "group_dataset = \"mnli\"\n",
    "group_qmeasure = \"AUPRC\"\n",
    "merge_groups = groupsep_data.loc[\n",
    "    (groupsep_data[\"Dataset\"] == group_dataset) &\n",
    "    (groupsep_data[\"Quality Metric\"] == group_qmeasure)\n",
    "]\n",
    "\n",
    "merged = pd.concat([merge_groups, merge_corr], axis=0)\n",
    "merged\n"
   ]
  },
  {
   "cell_type": "code",
   "execution_count": null,
   "metadata": {},
   "outputs": [],
   "source": [
    "measure_to_abbrv = {\n",
    "    \"AlignedCosineSimilarity\": \"AlignCos\",\n",
    "    \"CKA\": \"CKA\",\n",
    "    \"ConcentricityDifference\": \"ConcDiff\",\n",
    "    \"DistanceCorrelation\": \"DistCorr\",\n",
    "    \"EigenspaceOverlapScore\": \"EOS\",\n",
    "    \"GeometryScore\": \"GS\",\n",
    "    \"Gulp\": \"GULP\",\n",
    "    \"HardCorrelationMatch\": \"HardCorr\",\n",
    "    \"IMDScore\": \"IMD\",\n",
    "    \"JaccardSimilarity\": \"Jaccard\",\n",
    "    \"LinearRegression\": \"LinReg\",\n",
    "    \"MagnitudeDifference\": \"MagDiff\",\n",
    "    \"OrthogonalAngularShapeMetricCentered\": \"AngShape\",\n",
    "    \"OrthogonalProcrustesCenteredAndNormalized\": \"OrthProc\",\n",
    "    \"PWCCA\": \"PWCCA\",\n",
    "    \"PermutationProcrustes\": \"PermProc\",\n",
    "    \"ProcrustesSizeAndShapeDistance\": \"ProcDist\",\n",
    "    \"RSA\": \"RSA\",\n",
    "    \"RSMNormDifference\": \"RSMDiff\",\n",
    "    \"RankSimilarity\": \"RankSim\",\n",
    "    \"SVCCA\": \"SVCCA\",\n",
    "    \"SecondOrderCosineSimilarity\": \"2nd-Cos\",\n",
    "    \"SoftCorrelationMatch\": \"SoftCorr\",\n",
    "    \"UniformityDifference\": \"UnifDiff\"\n",
    "}\n"
   ]
  },
  {
   "cell_type": "code",
   "execution_count": null,
   "metadata": {},
   "outputs": [],
   "source": [
    "fake_vision_data = merged.copy()\n",
    "fake_vision_data.loc[:, \"Architecture\"] = \"ResNetX\"\n",
    "fake_vision_data.loc[:, \"Dataset\"] = \"ImageNet100\"\n",
    "\n",
    "fake_graph_data = merged.copy()\n",
    "fake_graph_data.loc[:, \"Architecture\"] = \"GraphSage\"\n",
    "fake_graph_data.loc[:, \"Dataset\"] = \"ogbn-arxiv\"\n",
    "\n",
    "table_data = pd.concat([merged, fake_vision_data, fake_graph_data])\n",
    "table_data[\"Similarity Measure\"] = table_data[\"Similarity Measure\"].map(measure_to_abbrv)\n",
    "\n",
    "\n",
    "table_data.loc[table_data.Setting == full_corr_setting, \"Score\"] = -1 * table_data.loc[table_data.Setting == full_corr_setting, \"Score\"]\n",
    "\n",
    "pivot = pd.pivot_table(table_data, index=\"Similarity Measure\",columns=[\"Setting\", \"Quality Metric\", \"Architecture\", \"Dataset\"], values=\"Score\")\n",
    "pivot = pivot.sort_values(by=\"Similarity Measure\")\n",
    "\n",
    "styled = pd.io.formats.style.Styler(\n",
    "    pivot,\n",
    "    precision=3,\n",
    "    caption=\"Results overview for selected datasets and models.\",\n",
    ")\n",
    "\n",
    "latex_str = styled.to_latex(hrules=True, position=\"t\", label=\"tab:result_overview\", )\n",
    "latex_str = latex_str.split(\"\\n\")\n",
    "latex_str = [r\"\\rowcolor{Gray}\" + line  if i>=12 and (i-12)%2==0 else line for i, line in enumerate(latex_str[:-4])] + latex_str[-4:]\n",
    "latex_str = \"\\n\".join(latex_str)\n",
    "print(latex_str)\n"
   ]
  },
  {
   "cell_type": "code",
   "execution_count": null,
   "metadata": {},
   "outputs": [],
   "source": []
  }
 ],
 "metadata": {
  "kernelspec": {
   "display_name": ".venv",
   "language": "python",
   "name": "python3"
  },
  "language_info": {
   "codemirror_mode": {
    "name": "ipython",
    "version": 3
   },
   "file_extension": ".py",
   "mimetype": "text/x-python",
   "name": "python",
   "nbconvert_exporter": "python",
   "pygments_lexer": "ipython3",
   "version": "3.10.14"
  }
 },
 "nbformat": 4,
 "nbformat_minor": 2
}
