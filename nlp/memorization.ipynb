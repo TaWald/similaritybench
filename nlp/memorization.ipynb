{
 "cells": [
  {
   "cell_type": "code",
   "execution_count": 1,
   "metadata": {},
   "outputs": [],
   "source": [
    "from omegaconf import OmegaConf"
   ]
  },
  {
   "cell_type": "code",
   "execution_count": 2,
   "metadata": {},
   "outputs": [
    {
     "name": "stdout",
     "output_type": "stream",
     "text": [
      "{'name': 'google/multiberts-seed_${.seed}', 'name_human': 'multibert-${.seed}', 'seed': 0, 'remove_sos_token': False, 'token_pos': 0, 'kwargs': {'tokenizer_name': 'google/multiberts-seed_${..seed}', 'model_type': None}}\n",
      "{'path': 'sst2', 'name': None, 'split': 'test', 'prompt_template': None, 'feature_column': ['sentence'], 'target_column': 'label', 'finetuning': {'num_labels': 2, 'trainer': {'_target_': 'transformers.Trainer', 'args': {'_target_': 'transformers.TrainingArguments', 'output_dir': '${hydra:runtime.output_dir}', 'overwrite_output_dir': True, 'warmup_ratio': 0.1, 'evaluation_strategy': 'steps', 'eval_steps': 1000, 'save_steps': 1000, 'per_device_train_batch_size': 64, 'per_device_eval_batch_size': 64, 'seed': 123456789, 'num_train_epochs': 10, 'save_total_limit': 2, 'load_best_model_at_end': True}}, 'eval_dataset': ['validation']}}\n"
     ]
    }
   ],
   "source": [
    "data_cfg = OmegaConf.load(\"/root/similaritybench/nlp/config/dataset/sst2.yaml\")\n",
    "model_cfg = OmegaConf.load(\"/root/similaritybench/nlp/config/model/multibert.yaml\")\n",
    "\n",
    "print(model_cfg)\n",
    "print(data_cfg)"
   ]
  },
  {
   "cell_type": "code",
   "execution_count": 3,
   "metadata": {},
   "outputs": [],
   "source": [
    "from repsim.nlp import get_dataset, get_tokenizer\n",
    "import transformers"
   ]
  },
  {
   "cell_type": "code",
   "execution_count": 4,
   "metadata": {},
   "outputs": [],
   "source": [
    "ds = get_dataset(data_cfg.path, data_cfg.name, )"
   ]
  },
  {
   "cell_type": "code",
   "execution_count": 5,
   "metadata": {},
   "outputs": [
    {
     "data": {
      "text/plain": [
       "BertTokenizerFast(name_or_path='google/multiberts-seed_0', vocab_size=30522, model_max_length=1000000000000000019884624838656, is_fast=True, padding_side='right', truncation_side='right', special_tokens={'unk_token': '[UNK]', 'sep_token': '[SEP]', 'pad_token': '[PAD]', 'cls_token': '[CLS]', 'mask_token': '[MASK]'}, clean_up_tokenization_spaces=True),  added_tokens_decoder={\n",
       "\t0: AddedToken(\"[PAD]\", rstrip=False, lstrip=False, single_word=False, normalized=False, special=True),\n",
       "\t100: AddedToken(\"[UNK]\", rstrip=False, lstrip=False, single_word=False, normalized=False, special=True),\n",
       "\t101: AddedToken(\"[CLS]\", rstrip=False, lstrip=False, single_word=False, normalized=False, special=True),\n",
       "\t102: AddedToken(\"[SEP]\", rstrip=False, lstrip=False, single_word=False, normalized=False, special=True),\n",
       "\t103: AddedToken(\"[MASK]\", rstrip=False, lstrip=False, single_word=False, normalized=False, special=True),\n",
       "}"
      ]
     },
     "execution_count": 5,
     "metadata": {},
     "output_type": "execute_result"
    }
   ],
   "source": [
    "tokenizer = transformers.AutoTokenizer.from_pretrained(model_cfg.kwargs.tokenizer_name)\n",
    "tokenizer\n"
   ]
  },
  {
   "cell_type": "code",
   "execution_count": 11,
   "metadata": {},
   "outputs": [
    {
     "data": {
      "application/vnd.jupyter.widget-view+json": {
       "model_id": "9ec80c1f288247dcb33395cb6b407a1c",
       "version_major": 2,
       "version_minor": 0
      },
      "text/plain": [
       "Map:   0%|          | 0/67349 [00:00<?, ? examples/s]"
      ]
     },
     "metadata": {},
     "output_type": "display_data"
    },
    {
     "data": {
      "application/vnd.jupyter.widget-view+json": {
       "model_id": "a8054486231b4c7da6c2d04f254c4f30",
       "version_major": 2,
       "version_minor": 0
      },
      "text/plain": [
       "Map:   0%|          | 0/872 [00:00<?, ? examples/s]"
      ]
     },
     "metadata": {},
     "output_type": "display_data"
    },
    {
     "data": {
      "application/vnd.jupyter.widget-view+json": {
       "model_id": "32bc5461c8904ea4a2a37d58e845aea4",
       "version_major": 2,
       "version_minor": 0
      },
      "text/plain": [
       "Map:   0%|          | 0/1821 [00:00<?, ? examples/s]"
      ]
     },
     "metadata": {},
     "output_type": "display_data"
    }
   ],
   "source": [
    "from typing import Any\n",
    "from datasets import DatasetDict\n",
    "from functools import partial\n",
    "import numpy as np\n",
    "\n",
    "\n",
    "class MemorizableLabelAdder:\n",
    "    def __init__(\n",
    "        self, dataset: DatasetDict, p: float, new_n_labels: int, label_column: str, seed: int = 1234567890\n",
    "    ) -> None:\n",
    "        self.dataset = dataset\n",
    "        self.p = p\n",
    "        self.new_n_labels = new_n_labels\n",
    "        self.label_column = label_column\n",
    "        self.new_label_column = \"memorizable_label\"\n",
    "\n",
    "        self.seed = seed\n",
    "        self.rng = np.random.default_rng(seed)\n",
    "\n",
    "    def add_labels(self):\n",
    "        for key, ds in self.dataset.items():\n",
    "            n_existing_labels = len(np.unique(ds[self.label_column]))\n",
    "            new_labels = np.arange(n_existing_labels, n_existing_labels + self.new_n_labels)\n",
    "            idxs = np.arange(len(ds))\n",
    "            idxs_new_labels = self.rng.choice(idxs, size=int(self.p * len(ds)))\n",
    "\n",
    "            def _new_labels(example: dict[str, Any]):\n",
    "                curr_label = example[self.label_column]\n",
    "                if example[\"idx\"] in idxs_new_labels:\n",
    "                    new_label = self.rng.choice(new_labels)\n",
    "                else:\n",
    "                    new_label = curr_label\n",
    "                return {self.new_label_column: new_label}\n",
    "\n",
    "            self.dataset[key] = ds.map(_new_labels)\n",
    "        return self.dataset, self.new_label_column\n",
    "\n",
    "\n",
    "adder = MemorizableLabelAdder(ds, 0.75, 5, \"label\", seed=123)\n",
    "new_ds, new_label_col = adder.add_labels()"
   ]
  },
  {
   "cell_type": "code",
   "execution_count": 12,
   "metadata": {},
   "outputs": [
    {
     "data": {
      "text/plain": [
       "{'idx': [0, 1, 2, 3, 4, 5, 6, 7, 8, 9],\n",
       " 'sentence': [\"it 's a charming and often affecting journey . \",\n",
       "  'unflinchingly bleak and desperate ',\n",
       "  'allows us to hope that nolan is poised to embark a major career as a commercial yet inventive filmmaker . ',\n",
       "  \"the acting , costumes , music , cinematography and sound are all astounding given the production 's austere locales . \",\n",
       "  \"it 's slow -- very , very slow . \",\n",
       "  'although laced with humor and a few fanciful touches , the film is a refreshingly serious look at young women . ',\n",
       "  'a sometimes tedious film . ',\n",
       "  \"or doing last year 's taxes with your ex-wife . \",\n",
       "  \"you do n't have to know about music to appreciate the film 's easygoing blend of comedy and romance . \",\n",
       "  \"in exactly 89 minutes , most of which passed as slowly as if i 'd been sitting naked on an igloo , formula 51 sank from quirky to jerky to utter turkey . \"],\n",
       " 'label': [1, 0, 1, 1, 0, 1, 0, 0, 1, 0],\n",
       " 'memorizable_label': [1, 0, 1, 3, 3, 6, 5, 0, 2, 0]}"
      ]
     },
     "execution_count": 12,
     "metadata": {},
     "output_type": "execute_result"
    }
   ],
   "source": [
    "new_ds[\"validation\"][:10]"
   ]
  },
  {
   "cell_type": "code",
   "execution_count": 13,
   "metadata": {},
   "outputs": [
    {
     "data": {
      "text/plain": [
       "DatasetDict({\n",
       "    train: Dataset({\n",
       "        features: ['idx', 'sentence', 'label', 'memorizable_label'],\n",
       "        num_rows: 67349\n",
       "    })\n",
       "    validation: Dataset({\n",
       "        features: ['idx', 'sentence', 'label', 'memorizable_label'],\n",
       "        num_rows: 872\n",
       "    })\n",
       "    test: Dataset({\n",
       "        features: ['idx', 'sentence', 'label', 'memorizable_label'],\n",
       "        num_rows: 1821\n",
       "    })\n",
       "})"
      ]
     },
     "execution_count": 13,
     "metadata": {},
     "output_type": "execute_result"
    }
   ],
   "source": [
    "adder.dataset"
   ]
  },
  {
   "cell_type": "code",
   "execution_count": 14,
   "metadata": {},
   "outputs": [
    {
     "data": {
      "application/vnd.jupyter.widget-view+json": {
       "model_id": "3cc6a0a2db7d44a1846b62f034cca02f",
       "version_major": 2,
       "version_minor": 0
      },
      "text/plain": [
       "Map:   0%|          | 0/67349 [00:00<?, ? examples/s]"
      ]
     },
     "metadata": {},
     "output_type": "display_data"
    },
    {
     "data": {
      "text/plain": [
       "0.47207827881631503"
      ]
     },
     "execution_count": 14,
     "metadata": {},
     "output_type": "execute_result"
    }
   ],
   "source": [
    "def new_label_eq_old_label(example: dict[str, Any]) -> dict[str, str]:\n",
    "    label = example[\"label\"]\n",
    "    new_label = example[new_label_col]\n",
    "    return {\"label_eq\": label == new_label}\n",
    "\n",
    "x = new_ds[\"train\"].map(new_label_eq_old_label)\n",
    "sum(x[\"label_eq\"])/len(x[\"label_eq\"])\n"
   ]
  },
  {
   "cell_type": "markdown",
   "metadata": {},
   "source": [
    "ground truth label distribution"
   ]
  },
  {
   "cell_type": "code",
   "execution_count": 15,
   "metadata": {},
   "outputs": [
    {
     "data": {
      "text/plain": [
       "array([0.44217435, 0.55782565])"
      ]
     },
     "execution_count": 15,
     "metadata": {},
     "output_type": "execute_result"
    }
   ],
   "source": [
    "counts = np.unique(ds[\"train\"][\"label\"], return_counts=True)[1]\n",
    "counts/counts.sum()"
   ]
  },
  {
   "cell_type": "markdown",
   "metadata": {},
   "source": [
    "distribution after scrambling labels"
   ]
  },
  {
   "cell_type": "code",
   "execution_count": 16,
   "metadata": {},
   "outputs": [
    {
     "data": {
      "text/plain": [
       "array([0.2088524 , 0.26322588, 0.10398076, 0.10430741, 0.10585161,\n",
       "       0.10699491, 0.10678703])"
      ]
     },
     "execution_count": 16,
     "metadata": {},
     "output_type": "execute_result"
    }
   ],
   "source": [
    "counts = np.unique(new_ds[\"train\"][\"memorizable_label\"], return_counts=True)[1]\n",
    "counts/counts.sum()"
   ]
  },
  {
   "cell_type": "code",
   "execution_count": null,
   "metadata": {},
   "outputs": [],
   "source": []
  },
  {
   "cell_type": "code",
   "execution_count": null,
   "metadata": {},
   "outputs": [],
   "source": []
  },
  {
   "cell_type": "code",
   "execution_count": null,
   "metadata": {},
   "outputs": [],
   "source": []
  }
 ],
 "metadata": {
  "kernelspec": {
   "display_name": ".venv",
   "language": "python",
   "name": "python3"
  },
  "language_info": {
   "codemirror_mode": {
    "name": "ipython",
    "version": 3
   },
   "file_extension": ".py",
   "mimetype": "text/x-python",
   "name": "python",
   "nbconvert_exporter": "python",
   "pygments_lexer": "ipython3",
   "version": "3.10.4"
  }
 },
 "nbformat": 4,
 "nbformat_minor": 2
}
